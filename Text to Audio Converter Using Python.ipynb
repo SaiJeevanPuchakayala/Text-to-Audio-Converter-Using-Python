{
 "cells": [
  {
   "cell_type": "markdown",
   "metadata": {},
   "source": [
    "## Text to Audio Converter Using Python\n",
    "\n",
    "### Installing the required Modules"
   ]
  },
  {
   "cell_type": "markdown",
   "metadata": {},
   "source": [
    "### 1. Google Text to Speech API commonly known as the gTTS API. gTTS is a very easy to use tool which converts the text entered, into audio which can be saved as a mp3 file. \n",
    "The gTTS API supports several languages including English, Hindi, Tamil, French, German and many more. The speech can be delivered in any one of the two available audio speeds, fast or slow. "
   ]
  },
  {
   "cell_type": "raw",
   "metadata": {},
   "source": [
    "pip install gTTS"
   ]
  },
  {
   "cell_type": "markdown",
   "metadata": {},
   "source": [
    "### 2. playsound is the most straightforward package to use if you simply want to play a WAV or MP3 file. It offers no functionality other than simple playback.\n",
    "With this module, you can play a sound file with a single line of code."
   ]
  },
  {
   "cell_type": "raw",
   "metadata": {},
   "source": [
    "pip install playsound"
   ]
  },
  {
   "cell_type": "markdown",
   "metadata": {},
   "source": [
    "### 3.  Let us look at the program."
   ]
  },
  {
   "cell_type": "code",
   "execution_count": 10,
   "metadata": {},
   "outputs": [
    {
     "name": "stdout",
     "output_type": "stream",
     "text": [
      "Enter the name of the audio file: Jeevan\n",
      "Enter the abbrevation of the langauge:en\n",
      "Enter the text which has to be converted to speech: play the audio from the file using the following command.\n",
      "******************Program is Succesfully Executed***************************\n"
     ]
    }
   ],
   "source": [
    "from gtts import gTTS\n",
    "from playsound import playsound\n",
    "audio = str(input(\"Enter the name of the audio file: \"))\n",
    "Audio = audio+\".mp3\"\n",
    "language = str(input(\"Enter the abbrevation of the langauge:\")) # like \"en\" for English.\n",
    "text = str(input(\"Enter the text which has to be converted to speech: \"))\n",
    "\n",
    "\n",
    "# text will be converted in to audio according to given language abbrevation\n",
    "speech = gTTS(text,lang = language,slow = False)\n",
    "\n",
    "\n",
    "speech.save(Audio)# file will be saved in mp3 format.\n",
    "\n",
    "# play the audio from the file saved using the following command.\n",
    "playsound(Audio)\n",
    "print(\"******************Program is Succesfully Executed***************************\")"
   ]
  },
  {
   "cell_type": "markdown",
   "metadata": {},
   "source": [
    "### 4. If you want to use any other languages the abbrevations of many supported languages are given below.\n",
    "        'af': 'Afrikaans',\n",
    "        'ar': 'Arabic',\n",
    "        'bn': 'Bengali',\n",
    "        'bs': 'Bosnian',\n",
    "        'ca': 'Catalan',\n",
    "        'cs': 'Czech',\n",
    "        'cy': 'Welsh',\n",
    "        'da': 'Danish',\n",
    "        'de': 'German',\n",
    "        'el': 'Greek',\n",
    "        'en': 'English',\n",
    "        'eo': 'Esperanto',\n",
    "        'es': 'Spanish',\n",
    "        'et': 'Estonian',\n",
    "        'fi': 'Finnish',\n",
    "        'fr': 'French',\n",
    "        'gu': 'Gujarati',\n",
    "        'hi': 'Hindi',\n",
    "        'hr': 'Croatian',\n",
    "        'hu': 'Hungarian',\n",
    "        'hy': 'Armenian',\n",
    "        'id': 'Indonesian',\n",
    "        'is': 'Icelandic',\n",
    "        'it': 'Italian',\n",
    "        'ja': 'Japanese',\n",
    "        'jw': 'Javanese',\n",
    "        'km': 'Khmer',\n",
    "        'kn': 'Kannada',\n",
    "        'ko': 'Korean',\n",
    "        'la': 'Latin',\n",
    "        'lv': 'Latvian',\n",
    "        'mk': 'Macedonian',\n",
    "        'ml': 'Malayalam',\n",
    "        'mr': 'Marathi',\n",
    "        'my': 'Myanmar (Burmese)',\n",
    "        'ne': 'Nepali',\n",
    "        'nl': 'Dutch',\n",
    "        'no': 'Norwegian',\n",
    "        'pl': 'Polish',\n",
    "        'pt': 'Portuguese',\n",
    "        'ro': 'Romanian',\n",
    "        'ru': 'Russian',\n",
    "        'si': 'Sinhala',\n",
    "        'sk': 'Slovak',\n",
    "        'sq': 'Albanian',\n",
    "        'sr': 'Serbian',\n",
    "        'su': 'Sundanese',\n",
    "        'sv': 'Swedish',\n",
    "        'sw': 'Swahili',\n",
    "        'ta': 'Tamil',\n",
    "        'te': 'Telugu',\n",
    "        'th': 'Thai',\n",
    "        'tl': 'Filipino',\n",
    "        'tr': 'Turkish',\n",
    "        'uk': 'Ukrainian',\n",
    "        'ur': 'Urdu',\n",
    "        'vi': 'Vietnamese',\n",
    "        'zh-CN': 'Chinese'\n",
    "        # Chinese\n",
    "        'zh-cn': 'Chinese (Mandarin/China)',\n",
    "        'zh-tw': 'Chinese (Mandarin/Taiwan)',\n",
    "        # English\n",
    "        'en-us': 'English (US)',\n",
    "        'en-ca': 'English (Canada)',\n",
    "        'en-uk': 'English (UK)',\n",
    "        'en-gb': 'English (UK)',\n",
    "        'en-au': 'English (Australia)',\n",
    "        'en-gh': 'English (Ghana)',\n",
    "        'en-in': 'English (India)',\n",
    "        'en-ie': 'English (Ireland)',\n",
    "        'en-nz': 'English (New Zealand)',\n",
    "        'en-ng': 'English (Nigeria)',\n",
    "        'en-ph': 'English (Philippines)',\n",
    "        'en-za': 'English (South Africa)',\n",
    "        'en-tz': 'English (Tanzania)',\n",
    "        # French\n",
    "        'fr-ca': 'French (Canada)',\n",
    "        'fr-fr': 'French (France)',\n",
    "        # Portuguese\n",
    "        'pt-br': 'Portuguese (Brazil)',\n",
    "        'pt-pt': 'Portuguese (Portugal)',\n",
    "        # Spanish\n",
    "        'es-es': 'Spanish (Spain)',\n",
    "        'es-us': 'Spanish (United States)'"
   ]
  }
 ],
 "metadata": {
  "kernelspec": {
   "display_name": "Python 3",
   "language": "python",
   "name": "python3"
  },
  "language_info": {
   "codemirror_mode": {
    "name": "ipython",
    "version": 3
   },
   "file_extension": ".py",
   "mimetype": "text/x-python",
   "name": "python",
   "nbconvert_exporter": "python",
   "pygments_lexer": "ipython3",
   "version": "3.8.3"
  }
 },
 "nbformat": 4,
 "nbformat_minor": 4
}
